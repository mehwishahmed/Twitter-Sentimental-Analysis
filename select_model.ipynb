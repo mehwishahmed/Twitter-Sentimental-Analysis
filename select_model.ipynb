{
 "cells": [
  {
   "cell_type": "code",
   "execution_count": 4,
   "id": "25494d9e-c801-4ad9-bc8c-20f32ffcd88b",
   "metadata": {},
   "outputs": [
    {
     "name": "stdout",
     "output_type": "stream",
     "text": [
      "Evaluating model: cardiffnlp/twitter-roberta-base-sentiment-latest\n"
     ]
    },
    {
     "name": "stderr",
     "output_type": "stream",
     "text": [
      "All model checkpoint layers were used when initializing TFRobertaForSequenceClassification.\n",
      "\n",
      "Some layers of TFRobertaForSequenceClassification were not initialized from the model checkpoint at cardiffnlp/twitter-roberta-base-sentiment-latest and are newly initialized: ['classifier']\n",
      "You should probably TRAIN this model on a down-stream task to be able to use it for predictions and inference.\n"
     ]
    },
    {
     "name": "stdout",
     "output_type": "stream",
     "text": [
      "Tweet: I love the new features of the iPhone 14! | Sentiment: {'label': 'neutral', 'score': 0.35399964451789856}\n",
      "Tweet: I'm not happy with the new update. | Sentiment: {'label': 'neutral', 'score': 0.3415502607822418}\n",
      "Tweet: The service was okay, nothing special. | Sentiment: {'label': 'neutral', 'score': 0.3637036681175232}\n"
     ]
    }
   ],
   "source": [
    "from transformers import pipeline\n",
    "\n",
    "def evaluate_model(model_name):\n",
    "    # Load sentiment analysis pipeline\n",
    "    pipe = pipeline(\"text-classification\", model=model_name)\n",
    "\n",
    "    # Example tweets for evaluation\n",
    "    tweets = [\n",
    "        \"I love the new features of the iPhone 14!\",\n",
    "        \"I'm not happy with the new update.\",\n",
    "        \"The service was okay, nothing special.\"\n",
    "    ]\n",
    "    \n",
    "    # Get sentiment predictions\n",
    "    results = pipe(tweets)\n",
    "\n",
    "    # Print the results\n",
    "    for tweet, result in zip(tweets, results):\n",
    "        print(f'Tweet: {tweet} | Sentiment: {result}')\n",
    "\n",
    "if __name__ == \"__main__\":\n",
    "    model_name = 'cardiffnlp/twitter-roberta-base-sentiment-latest'\n",
    "    print(f'Evaluating model: {model_name}')\n",
    "    evaluate_model(model_name)"
   ]
  },
  {
   "cell_type": "code",
   "execution_count": null,
   "id": "bb7f8e79-361d-4002-b381-1bcb6d21ff17",
   "metadata": {},
   "outputs": [],
   "source": []
  }
 ],
 "metadata": {
  "kernelspec": {
   "display_name": "Python 3 (ipykernel)",
   "language": "python",
   "name": "python3"
  },
  "language_info": {
   "codemirror_mode": {
    "name": "ipython",
    "version": 3
   },
   "file_extension": ".py",
   "mimetype": "text/x-python",
   "name": "python",
   "nbconvert_exporter": "python",
   "pygments_lexer": "ipython3",
   "version": "3.11.7"
  }
 },
 "nbformat": 4,
 "nbformat_minor": 5
}
