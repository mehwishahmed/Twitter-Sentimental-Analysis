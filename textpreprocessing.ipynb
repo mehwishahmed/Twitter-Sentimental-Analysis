{
 "cells": [
  {
   "cell_type": "code",
   "execution_count": 50,
   "metadata": {
    "colab": {
     "base_uri": "https://localhost:8080/"
    },
    "id": "wr0KT9ZXkTGd",
    "outputId": "b8b2b1a9-65f9-494a-91ed-2de0c0002975"
   },
   "outputs": [
    {
     "name": "stdout",
     "output_type": "stream",
     "text": [
      "sample tweet:\n",
      "omg! I just 8 Red Lobster!🤭 So many #delicious items on their menu: @RedLobster https://www.redlobster.com/menu\n"
     ]
    }
   ],
   "source": [
    "import re\n",
    "from nltk.corpus import stopwords\n",
    "from nltk.tokenize import word_tokenize\n",
    "from nltk.stem import WordNetLemmatizer\n",
    "from nltk.stem.porter import PorterStemmer\n",
    "\n",
    "tweet = \"omg! I just 8 Red Lobster!🤭 So many #delicious items on their menu: @RedLobster https://www.redlobster.com/menu\"\n",
    "print(\"sample tweet:\")\n",
    "print(tweet)\n"
   ]
  },
  {
   "cell_type": "code",
   "execution_count": 51,
   "metadata": {
    "colab": {
     "base_uri": "https://localhost:8080/"
    },
    "id": "rtwiIDJAlNd6",
    "outputId": "270ea0ab-2d43-4d3c-d7b4-2843b66c9391"
   },
   "outputs": [
    {
     "name": "stdout",
     "output_type": "stream",
     "text": [
      "omg! I just 8 Red Lobster!  So many #delicious items on their menu: @RedLobster https://www.redlobster.com/menu\n"
     ]
    }
   ],
   "source": [
    "# remove non-ASCII characters\n",
    "tweet = re.sub(r'[^\\x00-\\x7F]+', ' ', tweet)\n",
    "print(tweet)\n"
   ]
  },
  {
   "cell_type": "code",
   "execution_count": 52,
   "metadata": {
    "colab": {
     "base_uri": "https://localhost:8080/"
    },
    "id": "HDPSWopulviR",
    "outputId": "62974c2e-a0c5-4463-9481-8f15e7bc0548"
   },
   "outputs": [
    {
     "name": "stdout",
     "output_type": "stream",
     "text": [
      "omg! I just 8 Red Lobster!  So many HASHTAG items on their menu: MENTION URL\n"
     ]
    }
   ],
   "source": [
    "# replace URLs, user mentions and hashtags\n",
    "tweet = re.sub(r'http\\S+', 'URL', tweet)\n",
    "tweet = re.sub(r'@\\w+', 'MENTION', tweet)\n",
    "tweet = re.sub(r'#\\w+', 'HASHTAG', tweet)\n",
    "print(tweet)"
   ]
  },
  {
   "cell_type": "code",
   "execution_count": 53,
   "metadata": {
    "colab": {
     "base_uri": "https://localhost:8080/"
    },
    "id": "9BNVjZchlygx",
    "outputId": "e75ed5fb-218f-42ab-8c8e-a7d3096487ad"
   },
   "outputs": [
    {
     "name": "stdout",
     "output_type": "stream",
     "text": [
      "omg! I just  Red Lobster!  So many HASHTAG items on their menu: MENTION URL\n"
     ]
    }
   ],
   "source": [
    "# remove numbers\n",
    "tweet = re.sub(r'\\d+', '', tweet)\n",
    "print(tweet)"
   ]
  },
  {
   "cell_type": "code",
   "execution_count": 54,
   "metadata": {
    "colab": {
     "base_uri": "https://localhost:8080/"
    },
    "id": "-o7fdstml38a",
    "outputId": "0e3d02e0-46e2-4704-8e56-ba6dd0e7c7a2"
   },
   "outputs": [
    {
     "name": "stdout",
     "output_type": "stream",
     "text": [
      "omg I just  Red Lobster  So many HASHTAG items on their menu MENTION URL\n"
     ]
    }
   ],
   "source": [
    "# remove punctuation\n",
    "tweet = re.sub(r'[^\\w\\s]', '', tweet)\n",
    "print(tweet)"
   ]
  },
  {
   "cell_type": "code",
   "execution_count": 55,
   "metadata": {
    "colab": {
     "base_uri": "https://localhost:8080/"
    },
    "id": "9ZlUBDByl7bg",
    "outputId": "477a8dd1-3578-4ced-aa5b-d442ee647ce5"
   },
   "outputs": [
    {
     "name": "stdout",
     "output_type": "stream",
     "text": [
      "omg i just  red lobster  so many hashtag items on their menu mention url\n"
     ]
    }
   ],
   "source": [
    "# lowercase\n",
    "tweet = tweet.lower()\n",
    "print(tweet)"
   ]
  },
  {
   "cell_type": "code",
   "execution_count": 56,
   "metadata": {
    "colab": {
     "base_uri": "https://localhost:8080/"
    },
    "id": "i0oYj6AAmgCi",
    "outputId": "306b95b3-24c4-4732-bdb7-c0758ac7ac50"
   },
   "outputs": [
    {
     "name": "stderr",
     "output_type": "stream",
     "text": [
      "[nltk_data] Downloading package stopwords to\n",
      "[nltk_data]     /Users/mehwishahmed/nltk_data...\n",
      "[nltk_data]   Package stopwords is already up-to-date!\n"
     ]
    },
    {
     "data": {
      "text/plain": [
       "True"
      ]
     },
     "execution_count": 56,
     "metadata": {},
     "output_type": "execute_result"
    }
   ],
   "source": [
    "import nltk\n",
    "nltk.download('stopwords')"
   ]
  },
  {
   "cell_type": "markdown",
   "metadata": {
    "id": "hvE7aKpPpPwx"
   },
   "source": [
    "Lemmatizing reduces words to their base or root form."
   ]
  },
  {
   "cell_type": "code",
   "execution_count": 57,
   "metadata": {
    "colab": {
     "base_uri": "https://localhost:8080/"
    },
    "id": "ZzyEJrU-nLSR",
    "outputId": "b5a3fdc2-4e84-45fe-a125-95eb26261bcc"
   },
   "outputs": [
    {
     "name": "stdout",
     "output_type": "stream",
     "text": [
      "['omg', 'i', 'just', 'red', 'lobster', 'so', 'many', 'hashtag', 'item', 'on', 'their', 'menu', 'url']\n"
     ]
    },
    {
     "name": "stderr",
     "output_type": "stream",
     "text": [
      "[nltk_data] Downloading package wordnet to\n",
      "[nltk_data]     /Users/mehwishahmed/nltk_data...\n",
      "[nltk_data]   Package wordnet is already up-to-date!\n",
      "[nltk_data] Downloading package omw-1.4 to\n",
      "[nltk_data]     /Users/mehwishahmed/nltk_data...\n",
      "[nltk_data]   Package omw-1.4 is already up-to-date!\n"
     ]
    }
   ],
   "source": [
    "import nltk\n",
    "from nltk.stem import WordNetLemmatizer\n",
    "\n",
    "# download WordNet corpus\n",
    "nltk.download('wordnet')\n",
    "nltk.download('omw-1.4')\n",
    "\n",
    "# given filtered tweet\n",
    "filtered_tweet = ['omg', 'i', 'just', 'red', 'lobster', 'so', 'many', 'hashtag', 'items', 'on', 'their','menu','url']\n",
    "\n",
    "# initialize WordNetLemmatizer\n",
    "lemmatizer = WordNetLemmatizer()\n",
    "\n",
    "# lemmatize each word in the filtered tweet\n",
    "lemmatized_tweet = [lemmatizer.lemmatize(w) for w in filtered_tweet]\n",
    "\n",
    "# results\n",
    "print(lemmatized_tweet)\n"
   ]
  },
  {
   "cell_type": "markdown",
   "metadata": {
    "id": "nTjZ3oUZpX75"
   },
   "source": [
    "PorterStemmer() is an algorithm used for stemming English words. It’s part of the NLTK library.\n",
    "stemmed_tweet is a list comprehension that applies the stemmer to each word in lemmatized_tweet.\n",
    "stemmer.stem(w) applies the stemming process to each word w.\n",
    "The result, stemmed_tweet, is a list of words where each word has been reduced to its stemmed form.\n",
    "Finally, it prints out the list of stemmed words.\n",
    "This step is often used in text preprocessing for machine learning models where the exact form of a word is less important than the type of action or idea it represents."
   ]
  },
  {
   "cell_type": "code",
   "execution_count": 58,
   "metadata": {
    "colab": {
     "base_uri": "https://localhost:8080/"
    },
    "id": "mZi7nKtbnwrq",
    "outputId": "c70ecb4a-8a41-406e-a6b7-23bad6474177"
   },
   "outputs": [
    {
     "name": "stdout",
     "output_type": "stream",
     "text": [
      "['omg', 'i', 'just', 'red', 'lobster', 'so', 'mani', 'hashtag', 'item', 'on', 'their', 'menu', 'url']\n"
     ]
    }
   ],
   "source": [
    "# stemming\n",
    "stemmer = PorterStemmer()\n",
    "stemmed_tweet = [stemmer.stem(w) for w in lemmatized_tweet]\n",
    "print(stemmed_tweet)"
   ]
  },
  {
   "cell_type": "code",
   "execution_count": 59,
   "metadata": {
    "colab": {
     "base_uri": "https://localhost:8080/"
    },
    "id": "BgWixKMnnCPh",
    "outputId": "19d1b267-43dc-49e0-fc19-713cfb247824"
   },
   "outputs": [
    {
     "name": "stdout",
     "output_type": "stream",
     "text": [
      "\n",
      "final tweet:\n",
      "omg i just red lobster so mani hashtag item on their menu url\n"
     ]
    }
   ],
   "source": [
    "# combine words back to sentence\n",
    "preprocessed_tweet = ' '.join(stemmed_tweet)\n",
    "print(\"\\nfinal tweet:\")\n",
    "print(preprocessed_tweet)"
   ]
  },
  {
   "cell_type": "code",
   "execution_count": null,
   "metadata": {},
   "outputs": [],
   "source": []
  }
 ],
 "metadata": {
  "colab": {
   "provenance": []
  },
  "kernelspec": {
   "display_name": "Python 3 (ipykernel)",
   "language": "python",
   "name": "python3"
  },
  "language_info": {
   "codemirror_mode": {
    "name": "ipython",
    "version": 3
   },
   "file_extension": ".py",
   "mimetype": "text/x-python",
   "name": "python",
   "nbconvert_exporter": "python",
   "pygments_lexer": "ipython3",
   "version": "3.11.7"
  }
 },
 "nbformat": 4,
 "nbformat_minor": 4
}
