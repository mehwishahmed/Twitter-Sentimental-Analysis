{
 "cells": [
  {
   "cell_type": "code",
   "execution_count": 1,
   "id": "8a9e0570-99c7-48b9-ad19-0c70a84142b2",
   "metadata": {},
   "outputs": [
    {
     "name": "stderr",
     "output_type": "stream",
     "text": [
      "/opt/anaconda3/lib/python3.11/site-packages/huggingface_hub/file_download.py:1132: FutureWarning: `resume_download` is deprecated and will be removed in version 1.0.0. Downloads always resume when possible. If you want to force a new download, use `force_download=True`.\n",
      "  warnings.warn(\n",
      "Some weights of the PyTorch model were not used when initializing the TF 2.0 model TFRobertaForSequenceClassification: ['roberta.embeddings.position_ids']\n",
      "- This IS expected if you are initializing TFRobertaForSequenceClassification from a PyTorch model trained on another task or with another architecture (e.g. initializing a TFBertForSequenceClassification model from a BertForPreTraining model).\n",
      "- This IS NOT expected if you are initializing TFRobertaForSequenceClassification from a PyTorch model that you expect to be exactly identical (e.g. initializing a TFBertForSequenceClassification model from a BertForSequenceClassification model).\n",
      "Some weights or buffers of the TF 2.0 model TFRobertaForSequenceClassification were not initialized from the PyTorch model and are newly initialized: ['classifier.dense.weight', 'classifier.dense.bias', 'classifier.out_proj.weight', 'classifier.out_proj.bias']\n",
      "You should probably TRAIN this model on a down-stream task to be able to use it for predictions and inference.\n",
      "WARNING:absl:At this time, the v2.11+ optimizer `tf.keras.optimizers.Adam` runs slowly on M1/M2 Macs, please use the legacy TF-Keras optimizer instead, located at `tf.keras.optimizers.legacy.Adam`.\n"
     ]
    },
    {
     "name": "stdout",
     "output_type": "stream",
     "text": [
      "Epoch 1/3\n",
      "WARNING:tensorflow:AutoGraph could not transform <function infer_framework at 0x17c2b8d60> and will run it as-is.\n",
      "Cause: for/else statement not yet supported\n",
      "To silence this warning, decorate the function with @tf.autograph.experimental.do_not_convert\n"
     ]
    },
    {
     "name": "stderr",
     "output_type": "stream",
     "text": [
      "WARNING:tensorflow:AutoGraph could not transform <function infer_framework at 0x17c2b8d60> and will run it as-is.\n",
      "Cause: for/else statement not yet supported\n",
      "To silence this warning, decorate the function with @tf.autograph.experimental.do_not_convert\n"
     ]
    },
    {
     "name": "stdout",
     "output_type": "stream",
     "text": [
      "WARNING: AutoGraph could not transform <function infer_framework at 0x17c2b8d60> and will run it as-is.\n",
      "Cause: for/else statement not yet supported\n",
      "To silence this warning, decorate the function with @tf.autograph.experimental.do_not_convert\n",
      "244/244 [==============================] - 927s 4s/step - loss: 0.9730 - accuracy: 0.4987 - val_loss: 0.8056 - val_accuracy: 0.6232\n",
      "Epoch 2/3\n",
      "244/244 [==============================] - 857s 4s/step - loss: 0.7425 - accuracy: 0.6781 - val_loss: 0.7227 - val_accuracy: 0.6704\n",
      "Epoch 3/3\n",
      "244/244 [==============================] - 881s 4s/step - loss: 0.6410 - accuracy: 0.7277 - val_loss: 0.7280 - val_accuracy: 0.6745\n",
      "61/61 [==============================] - 56s 829ms/step\n",
      "              precision    recall  f1-score   support\n",
      "\n",
      "    Negative       0.61      0.72      0.66       269\n",
      "     Neutral       0.73      0.52      0.61       378\n",
      "    Positive       0.69      0.82      0.75       327\n",
      "\n",
      "    accuracy                           0.67       974\n",
      "   macro avg       0.68      0.69      0.67       974\n",
      "weighted avg       0.68      0.67      0.67       974\n",
      "\n"
     ]
    }
   ],
   "source": [
    "import pandas as pd\n",
    "import tensorflow as tf\n",
    "from sklearn.model_selection import train_test_split\n",
    "from sklearn.metrics import classification_report\n",
    "from transformers import TFRobertaForSequenceClassification, RobertaTokenizer, RobertaConfig\n",
    "\n",
    "# Load preprocessed data\n",
    "df = pd.read_csv('preprocessed_tweets_dataset.csv')\n",
    "\n",
    "# Mapping categorical labels to integers\n",
    "label_map = {'Negative': 0, 'Neutral': 1, 'Positive': 2}\n",
    "df['label'] = df['Sentiment'].map(label_map)\n",
    "\n",
    "assert df['label'].isin([0, 1, 2]).all(), \"Labels must be in the range [0, 2]\"\n",
    "\n",
    "# Split data into train and test sets\n",
    "train_texts, test_texts, train_labels, test_labels = train_test_split(\n",
    "    df['preprocessed_text'], df['label'], test_size=0.2, random_state=42)\n",
    "\n",
    "# Convert train_texts and test_texts to lists of strings\n",
    "train_texts = train_texts.astype(str).tolist()\n",
    "test_texts = test_texts.astype(str).tolist()\n",
    "\n",
    "# Initialize RoBERTa tokenizer\n",
    "model_name = 'roberta-base'\n",
    "tokenizer = RobertaTokenizer.from_pretrained(model_name)\n",
    "config = RobertaConfig.from_pretrained(model_name, num_labels=3)\n",
    "\n",
    "\n",
    "# Tokenize text data\n",
    "train_encodings = tokenizer(train_texts, truncation=True, padding=True)\n",
    "test_encodings = tokenizer(test_texts, truncation=True, padding=True)\n",
    "\n",
    "# Ensure train_labels and test_labels are integers\n",
    "train_labels = train_labels.astype(int).values\n",
    "test_labels = test_labels.astype(int).values\n",
    "\n",
    "# Create TensorFlow datasets\n",
    "train_dataset = tf.data.Dataset.from_tensor_slices((\n",
    "    dict(train_encodings),\n",
    "    train_labels\n",
    ")).shuffle(len(train_texts)).batch(16)\n",
    "\n",
    "test_dataset = tf.data.Dataset.from_tensor_slices((\n",
    "    dict(test_encodings),\n",
    "    test_labels\n",
    ")).batch(16)\n",
    "\n",
    "# Load pre-trained RoBERTa model for sequence classification\n",
    "model = TFRobertaForSequenceClassification.from_pretrained(model_name, config=config)\n",
    "\n",
    "# Define model compile and training\n",
    "model.compile(optimizer=tf.keras.optimizers.Adam(learning_rate=1e-5),\n",
    "              loss=tf.keras.losses.SparseCategoricalCrossentropy(from_logits=True),\n",
    "              metrics=[tf.keras.metrics.SparseCategoricalAccuracy('accuracy')])\n",
    "\n",
    "# Train the model\n",
    "history = model.fit(train_dataset, epochs=3, validation_data=test_dataset)\n",
    "\n",
    "# Evaluate model performance\n",
    "predictions = model.predict(test_dataset)\n",
    "predicted_labels = tf.argmax(predictions.logits, axis=1)\n",
    "print(classification_report(test_labels, predicted_labels.numpy(), target_names=['Negative', 'Neutral', 'Positive']))\n",
    "\n",
    "# Save model training and evaluation information in documentation file (README.md)\n",
    "model_training_info = \"\"\"\n",
    "### Model Training and Evaluation\n",
    "\n",
    "- **Model:** Fine-tuned BERT for Sequence Classification\n",
    "- **Metrics:** Accuracy, Precision, Recall, F1 Score\n",
    "\"\"\"\n",
    "with open('README.md', 'a') as readme_file:\n",
    "    readme_file.write(model_training_info)"
   ]
  },
  {
   "cell_type": "code",
   "execution_count": null,
   "id": "5904ba5e-a3fa-4967-98c0-242b41279493",
   "metadata": {},
   "outputs": [],
   "source": []
  },
  {
   "cell_type": "code",
   "execution_count": null,
   "id": "c3276629-a791-49a2-8bea-1b33316a3fdd",
   "metadata": {},
   "outputs": [],
   "source": []
  },
  {
   "cell_type": "code",
   "execution_count": null,
   "id": "d3c1e54a-29f7-4f03-bb0c-d3e96b9c34c2",
   "metadata": {},
   "outputs": [],
   "source": []
  }
 ],
 "metadata": {
  "kernelspec": {
   "display_name": "Python 3 (ipykernel)",
   "language": "python",
   "name": "python3"
  },
  "language_info": {
   "codemirror_mode": {
    "name": "ipython",
    "version": 3
   },
   "file_extension": ".py",
   "mimetype": "text/x-python",
   "name": "python",
   "nbconvert_exporter": "python",
   "pygments_lexer": "ipython3",
   "version": "3.11.7"
  }
 },
 "nbformat": 4,
 "nbformat_minor": 5
}
